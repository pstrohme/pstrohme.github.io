{
 "cells": [
  {
   "cell_type": "code",
   "execution_count": null,
   "metadata": {},
   "outputs": [],
   "source": [
    "import requests\n",
    "import json\n",
    "import xml.etree.ElementTree as ET  # for parsing XML\n",
    "import swat\n",
    "import pandas as pd\n",
    "import swat\n",
    "from flatten_json import flatten"
   ]
  },
  {
   "cell_type": "code",
   "execution_count": 2,
   "metadata": {},
   "outputs": [],
   "source": [
    "response = requests.get(\"https://fhir.epic.com/interconnect-fhir-oauth/api/FHIR/R4/Patient/erXuFYUfucBZaryVksYEcMg3\")"
   ]
  },
  {
   "cell_type": "code",
   "execution_count": 3,
   "metadata": {},
   "outputs": [],
   "source": [
    "response = requests.get(\"https://randomuser.me/api/\")"
   ]
  },
  {
   "cell_type": "code",
   "execution_count": 4,
   "metadata": {},
   "outputs": [
    {
     "name": "stdout",
     "output_type": "stream",
     "text": [
      "200\n"
     ]
    }
   ],
   "source": [
    "print(response.status_code)"
   ]
  },
  {
   "cell_type": "code",
   "execution_count": 5,
   "metadata": {},
   "outputs": [
    {
     "name": "stdout",
     "output_type": "stream",
     "text": [
      "b'{\"results\":[{\"gender\":\"female\",\"name\":{\"title\":\"Miss\",\"first\":\"Kaitlin\",\"last\":\"Newman\"},\"location\":{\"street\":{\"number\":8018,\"name\":\"Main Street\"},\"city\":\"Derby\",\"state\":\"Central\",\"country\":\"United Kingdom\",\"postcode\":\"IM9 6TB\",\"coordinates\":{\"latitude\":\"-7.0270\",\"longitude\":\"179.1568\"},\"timezone\":{\"offset\":\"-3:00\",\"description\":\"Brazil, Buenos Aires, Georgetown\"}},\"email\":\"kaitlin.newman@example.com\",\"login\":{\"uuid\":\"8a45c641-5f61-4e4a-a3d3-157d4b67317f\",\"username\":\"brownbutterfly427\",\"password\":\"spanish\",\"salt\":\"9Ad7rOOl\",\"md5\":\"d3f8cdc03f26f30b94118cde61fa20e3\",\"sha1\":\"f7fcdb08e0c665f2207fe6be31306bbd66864039\",\"sha256\":\"65bd608b9d2f281422c44f8ca677cbb990386907f5b79c44968d3d8922087c1f\"},\"dob\":{\"date\":\"1971-02-28T09:27:49.641Z\",\"age\":52},\"registered\":{\"date\":\"2018-12-10T03:09:39.929Z\",\"age\":4},\"phone\":\"016977 8242\",\"cell\":\"07183 993081\",\"id\":{\"name\":\"NINO\",\"value\":\"CW 72 85 30 K\"},\"picture\":{\"large\":\"https://randomuser.me/api/portraits/women/24.jpg\",\"medium\":\"https://randomuser.me/api/portraits/med/women/24.jpg\",\"thumbnail\":\"https://randomuser.me/api/portraits/thumb/women/24.jpg\"},\"nat\":\"GB\"}],\"info\":{\"seed\":\"efb35801aa9ab3cb\",\"results\":1,\"page\":1,\"version\":\"1.4\"}}'\n"
     ]
    }
   ],
   "source": [
    "print(response.content)"
   ]
  },
  {
   "cell_type": "code",
   "execution_count": 7,
   "metadata": {},
   "outputs": [],
   "source": [
    "data = response.json()"
   ]
  },
  {
   "cell_type": "code",
   "execution_count": 8,
   "metadata": {},
   "outputs": [
    {
     "data": {
      "text/plain": [
       "{'results': [{'gender': 'female',\n",
       "   'name': {'title': 'Miss', 'first': 'Kaitlin', 'last': 'Newman'},\n",
       "   'location': {'street': {'number': 8018, 'name': 'Main Street'},\n",
       "    'city': 'Derby',\n",
       "    'state': 'Central',\n",
       "    'country': 'United Kingdom',\n",
       "    'postcode': 'IM9 6TB',\n",
       "    'coordinates': {'latitude': '-7.0270', 'longitude': '179.1568'},\n",
       "    'timezone': {'offset': '-3:00',\n",
       "     'description': 'Brazil, Buenos Aires, Georgetown'}},\n",
       "   'email': 'kaitlin.newman@example.com',\n",
       "   'login': {'uuid': '8a45c641-5f61-4e4a-a3d3-157d4b67317f',\n",
       "    'username': 'brownbutterfly427',\n",
       "    'password': 'spanish',\n",
       "    'salt': '9Ad7rOOl',\n",
       "    'md5': 'd3f8cdc03f26f30b94118cde61fa20e3',\n",
       "    'sha1': 'f7fcdb08e0c665f2207fe6be31306bbd66864039',\n",
       "    'sha256': '65bd608b9d2f281422c44f8ca677cbb990386907f5b79c44968d3d8922087c1f'},\n",
       "   'dob': {'date': '1971-02-28T09:27:49.641Z', 'age': 52},\n",
       "   'registered': {'date': '2018-12-10T03:09:39.929Z', 'age': 4},\n",
       "   'phone': '016977 8242',\n",
       "   'cell': '07183 993081',\n",
       "   'id': {'name': 'NINO', 'value': 'CW 72 85 30 K'},\n",
       "   'picture': {'large': 'https://randomuser.me/api/portraits/women/24.jpg',\n",
       "    'medium': 'https://randomuser.me/api/portraits/med/women/24.jpg',\n",
       "    'thumbnail': 'https://randomuser.me/api/portraits/thumb/women/24.jpg'},\n",
       "   'nat': 'GB'}],\n",
       " 'info': {'seed': 'efb35801aa9ab3cb',\n",
       "  'results': 1,\n",
       "  'page': 1,\n",
       "  'version': '1.4'}}"
      ]
     },
     "execution_count": 8,
     "metadata": {},
     "output_type": "execute_result"
    }
   ],
   "source": [
    "data"
   ]
  },
  {
   "cell_type": "code",
   "execution_count": 9,
   "metadata": {},
   "outputs": [
    {
     "data": {
      "text/plain": [
       "dict_keys(['results', 'info'])"
      ]
     },
     "execution_count": 9,
     "metadata": {},
     "output_type": "execute_result"
    }
   ],
   "source": [
    "# keys() method returns a view object. The view object contains the keys of the dictionary, as a list\n",
    "data.keys()"
   ]
  },
  {
   "cell_type": "code",
   "execution_count": 35,
   "metadata": {},
   "outputs": [
    {
     "data": {
      "text/plain": [
       "dict"
      ]
     },
     "execution_count": 35,
     "metadata": {},
     "output_type": "execute_result"
    }
   ],
   "source": [
    "type(json['results'][0])\n",
    "#type(json['results'][0]) is a dict. So we’ve got a list of dicts! "
   ]
  },
  {
   "cell_type": "code",
   "execution_count": 10,
   "metadata": {},
   "outputs": [],
   "source": [
    "df = pd.DataFrame(data['results'])"
   ]
  },
  {
   "cell_type": "code",
   "execution_count": 16,
   "metadata": {},
   "outputs": [
    {
     "data": {
      "text/html": [
       "<div>\n",
       "<style scoped>\n",
       "    .dataframe tbody tr th:only-of-type {\n",
       "        vertical-align: middle;\n",
       "    }\n",
       "\n",
       "    .dataframe tbody tr th {\n",
       "        vertical-align: top;\n",
       "    }\n",
       "\n",
       "    .dataframe thead th {\n",
       "        text-align: right;\n",
       "    }\n",
       "</style>\n",
       "<table border=\"1\" class=\"dataframe\">\n",
       "  <thead>\n",
       "    <tr style=\"text-align: right;\">\n",
       "      <th></th>\n",
       "      <th>gender</th>\n",
       "      <th>name</th>\n",
       "      <th>location</th>\n",
       "      <th>email</th>\n",
       "      <th>login</th>\n",
       "      <th>dob</th>\n",
       "      <th>registered</th>\n",
       "      <th>phone</th>\n",
       "      <th>cell</th>\n",
       "      <th>id</th>\n",
       "      <th>picture</th>\n",
       "      <th>nat</th>\n",
       "    </tr>\n",
       "  </thead>\n",
       "  <tbody>\n",
       "    <tr>\n",
       "      <th>0</th>\n",
       "      <td>female</td>\n",
       "      <td>{'title': 'Miss', 'first': 'Kaitlin', 'last': ...</td>\n",
       "      <td>{'street': {'number': 8018, 'name': 'Main Stre...</td>\n",
       "      <td>kaitlin.newman@example.com</td>\n",
       "      <td>{'uuid': '8a45c641-5f61-4e4a-a3d3-157d4b67317f...</td>\n",
       "      <td>{'date': '1971-02-28T09:27:49.641Z', 'age': 52}</td>\n",
       "      <td>{'date': '2018-12-10T03:09:39.929Z', 'age': 4}</td>\n",
       "      <td>016977 8242</td>\n",
       "      <td>07183 993081</td>\n",
       "      <td>{'name': 'NINO', 'value': 'CW 72 85 30 K'}</td>\n",
       "      <td>{'large': 'https://randomuser.me/api/portraits...</td>\n",
       "      <td>GB</td>\n",
       "    </tr>\n",
       "  </tbody>\n",
       "</table>\n",
       "</div>"
      ],
      "text/plain": [
       "   gender                                               name   \n",
       "0  female  {'title': 'Miss', 'first': 'Kaitlin', 'last': ...  \\\n",
       "\n",
       "                                            location   \n",
       "0  {'street': {'number': 8018, 'name': 'Main Stre...  \\\n",
       "\n",
       "                        email   \n",
       "0  kaitlin.newman@example.com  \\\n",
       "\n",
       "                                               login   \n",
       "0  {'uuid': '8a45c641-5f61-4e4a-a3d3-157d4b67317f...  \\\n",
       "\n",
       "                                               dob   \n",
       "0  {'date': '1971-02-28T09:27:49.641Z', 'age': 52}  \\\n",
       "\n",
       "                                       registered        phone          cell   \n",
       "0  {'date': '2018-12-10T03:09:39.929Z', 'age': 4}  016977 8242  07183 993081  \\\n",
       "\n",
       "                                           id   \n",
       "0  {'name': 'NINO', 'value': 'CW 72 85 30 K'}  \\\n",
       "\n",
       "                                             picture nat  \n",
       "0  {'large': 'https://randomuser.me/api/portraits...  GB  "
      ]
     },
     "execution_count": 16,
     "metadata": {},
     "output_type": "execute_result"
    }
   ],
   "source": [
    "df.head()"
   ]
  },
  {
   "cell_type": "code",
   "execution_count": 17,
   "metadata": {},
   "outputs": [
    {
     "ename": "KeyError",
     "evalue": "'results'",
     "output_type": "error",
     "traceback": [
      "\u001b[1;31m---------------------------------------------------------------------------\u001b[0m",
      "\u001b[1;31mKeyError\u001b[0m                                  Traceback (most recent call last)",
      "File \u001b[1;32mc:\\Users\\Paul Strohmeier\\AppData\\Local\\Programs\\Python\\Python311\\Lib\\site-packages\\pandas\\core\\indexes\\base.py:3652\u001b[0m, in \u001b[0;36mIndex.get_loc\u001b[1;34m(self, key)\u001b[0m\n\u001b[0;32m   3651\u001b[0m \u001b[39mtry\u001b[39;00m:\n\u001b[1;32m-> 3652\u001b[0m     \u001b[39mreturn\u001b[39;00m \u001b[39mself\u001b[39;49m\u001b[39m.\u001b[39;49m_engine\u001b[39m.\u001b[39;49mget_loc(casted_key)\n\u001b[0;32m   3653\u001b[0m \u001b[39mexcept\u001b[39;00m \u001b[39mKeyError\u001b[39;00m \u001b[39mas\u001b[39;00m err:\n",
      "File \u001b[1;32mc:\\Users\\Paul Strohmeier\\AppData\\Local\\Programs\\Python\\Python311\\Lib\\site-packages\\pandas\\_libs\\index.pyx:147\u001b[0m, in \u001b[0;36mpandas._libs.index.IndexEngine.get_loc\u001b[1;34m()\u001b[0m\n",
      "File \u001b[1;32mc:\\Users\\Paul Strohmeier\\AppData\\Local\\Programs\\Python\\Python311\\Lib\\site-packages\\pandas\\_libs\\index.pyx:176\u001b[0m, in \u001b[0;36mpandas._libs.index.IndexEngine.get_loc\u001b[1;34m()\u001b[0m\n",
      "File \u001b[1;32mpandas\\_libs\\hashtable_class_helper.pxi:7080\u001b[0m, in \u001b[0;36mpandas._libs.hashtable.PyObjectHashTable.get_item\u001b[1;34m()\u001b[0m\n",
      "File \u001b[1;32mpandas\\_libs\\hashtable_class_helper.pxi:7088\u001b[0m, in \u001b[0;36mpandas._libs.hashtable.PyObjectHashTable.get_item\u001b[1;34m()\u001b[0m\n",
      "\u001b[1;31mKeyError\u001b[0m: 'results'",
      "\nThe above exception was the direct cause of the following exception:\n",
      "\u001b[1;31mKeyError\u001b[0m                                  Traceback (most recent call last)",
      "Cell \u001b[1;32mIn[17], line 1\u001b[0m\n\u001b[1;32m----> 1\u001b[0m d \u001b[39m=\u001b[39m df[\u001b[39m'\u001b[39;49m\u001b[39mresults\u001b[39;49m\u001b[39m'\u001b[39;49m]\n",
      "File \u001b[1;32mc:\\Users\\Paul Strohmeier\\AppData\\Local\\Programs\\Python\\Python311\\Lib\\site-packages\\pandas\\core\\frame.py:3760\u001b[0m, in \u001b[0;36mDataFrame.__getitem__\u001b[1;34m(self, key)\u001b[0m\n\u001b[0;32m   3758\u001b[0m \u001b[39mif\u001b[39;00m \u001b[39mself\u001b[39m\u001b[39m.\u001b[39mcolumns\u001b[39m.\u001b[39mnlevels \u001b[39m>\u001b[39m \u001b[39m1\u001b[39m:\n\u001b[0;32m   3759\u001b[0m     \u001b[39mreturn\u001b[39;00m \u001b[39mself\u001b[39m\u001b[39m.\u001b[39m_getitem_multilevel(key)\n\u001b[1;32m-> 3760\u001b[0m indexer \u001b[39m=\u001b[39m \u001b[39mself\u001b[39;49m\u001b[39m.\u001b[39;49mcolumns\u001b[39m.\u001b[39;49mget_loc(key)\n\u001b[0;32m   3761\u001b[0m \u001b[39mif\u001b[39;00m is_integer(indexer):\n\u001b[0;32m   3762\u001b[0m     indexer \u001b[39m=\u001b[39m [indexer]\n",
      "File \u001b[1;32mc:\\Users\\Paul Strohmeier\\AppData\\Local\\Programs\\Python\\Python311\\Lib\\site-packages\\pandas\\core\\indexes\\base.py:3654\u001b[0m, in \u001b[0;36mIndex.get_loc\u001b[1;34m(self, key)\u001b[0m\n\u001b[0;32m   3652\u001b[0m     \u001b[39mreturn\u001b[39;00m \u001b[39mself\u001b[39m\u001b[39m.\u001b[39m_engine\u001b[39m.\u001b[39mget_loc(casted_key)\n\u001b[0;32m   3653\u001b[0m \u001b[39mexcept\u001b[39;00m \u001b[39mKeyError\u001b[39;00m \u001b[39mas\u001b[39;00m err:\n\u001b[1;32m-> 3654\u001b[0m     \u001b[39mraise\u001b[39;00m \u001b[39mKeyError\u001b[39;00m(key) \u001b[39mfrom\u001b[39;00m \u001b[39merr\u001b[39;00m\n\u001b[0;32m   3655\u001b[0m \u001b[39mexcept\u001b[39;00m \u001b[39mTypeError\u001b[39;00m:\n\u001b[0;32m   3656\u001b[0m     \u001b[39m# If we have a listlike key, _check_indexing_error will raise\u001b[39;00m\n\u001b[0;32m   3657\u001b[0m     \u001b[39m#  InvalidIndexError. Otherwise we fall through and re-raise\u001b[39;00m\n\u001b[0;32m   3658\u001b[0m     \u001b[39m#  the TypeError.\u001b[39;00m\n\u001b[0;32m   3659\u001b[0m     \u001b[39mself\u001b[39m\u001b[39m.\u001b[39m_check_indexing_error(key)\n",
      "\u001b[1;31mKeyError\u001b[0m: 'results'"
     ]
    }
   ],
   "source": [
    "d = df['results']"
   ]
  },
  {
   "cell_type": "code",
   "execution_count": 19,
   "metadata": {},
   "outputs": [
    {
     "ename": "TypeError",
     "evalue": "gender has non list value d for path 3. Must be list or null.",
     "output_type": "error",
     "traceback": [
      "\u001b[1;31m---------------------------------------------------------------------------\u001b[0m",
      "\u001b[1;31mTypeError\u001b[0m                                 Traceback (most recent call last)",
      "Cell \u001b[1;32mIn[19], line 1\u001b[0m\n\u001b[1;32m----> 1\u001b[0m df_normalized \u001b[39m=\u001b[39m pd\u001b[39m.\u001b[39;49mjson_normalize(df, \u001b[39m3\u001b[39;49m)\n",
      "File \u001b[1;32mc:\\Users\\Paul Strohmeier\\AppData\\Local\\Programs\\Python\\Python311\\Lib\\site-packages\\pandas\\io\\json\\_normalize.py:519\u001b[0m, in \u001b[0;36mjson_normalize\u001b[1;34m(data, record_path, meta, meta_prefix, record_prefix, errors, sep, max_level)\u001b[0m\n\u001b[0;32m    516\u001b[0m                 meta_vals[key]\u001b[39m.\u001b[39mappend(meta_val)\n\u001b[0;32m    517\u001b[0m             records\u001b[39m.\u001b[39mextend(recs)\n\u001b[1;32m--> 519\u001b[0m _recursive_extract(data, record_path, {}, level\u001b[39m=\u001b[39;49m\u001b[39m0\u001b[39;49m)\n\u001b[0;32m    521\u001b[0m result \u001b[39m=\u001b[39m DataFrame(records)\n\u001b[0;32m    523\u001b[0m \u001b[39mif\u001b[39;00m record_prefix \u001b[39mis\u001b[39;00m \u001b[39mnot\u001b[39;00m \u001b[39mNone\u001b[39;00m:\n",
      "File \u001b[1;32mc:\\Users\\Paul Strohmeier\\AppData\\Local\\Programs\\Python\\Python311\\Lib\\site-packages\\pandas\\io\\json\\_normalize.py:501\u001b[0m, in \u001b[0;36mjson_normalize.<locals>._recursive_extract\u001b[1;34m(data, path, seen_meta, level)\u001b[0m\n\u001b[0;32m    499\u001b[0m \u001b[39melse\u001b[39;00m:\n\u001b[0;32m    500\u001b[0m     \u001b[39mfor\u001b[39;00m obj \u001b[39min\u001b[39;00m data:\n\u001b[1;32m--> 501\u001b[0m         recs \u001b[39m=\u001b[39m _pull_records(obj, path[\u001b[39m0\u001b[39;49m])\n\u001b[0;32m    502\u001b[0m         recs \u001b[39m=\u001b[39m [\n\u001b[0;32m    503\u001b[0m             nested_to_record(r, sep\u001b[39m=\u001b[39msep, max_level\u001b[39m=\u001b[39mmax_level)\n\u001b[0;32m    504\u001b[0m             \u001b[39mif\u001b[39;00m \u001b[39misinstance\u001b[39m(r, \u001b[39mdict\u001b[39m)\n\u001b[0;32m    505\u001b[0m             \u001b[39melse\u001b[39;00m r\n\u001b[0;32m    506\u001b[0m             \u001b[39mfor\u001b[39;00m r \u001b[39min\u001b[39;00m recs\n\u001b[0;32m    507\u001b[0m         ]\n\u001b[0;32m    509\u001b[0m         \u001b[39m# For repeating the metadata later\u001b[39;00m\n",
      "File \u001b[1;32mc:\\Users\\Paul Strohmeier\\AppData\\Local\\Programs\\Python\\Python311\\Lib\\site-packages\\pandas\\io\\json\\_normalize.py:431\u001b[0m, in \u001b[0;36mjson_normalize.<locals>._pull_records\u001b[1;34m(js, spec)\u001b[0m\n\u001b[0;32m    429\u001b[0m         result \u001b[39m=\u001b[39m []\n\u001b[0;32m    430\u001b[0m     \u001b[39melse\u001b[39;00m:\n\u001b[1;32m--> 431\u001b[0m         \u001b[39mraise\u001b[39;00m \u001b[39mTypeError\u001b[39;00m(\n\u001b[0;32m    432\u001b[0m             \u001b[39mf\u001b[39m\u001b[39m\"\u001b[39m\u001b[39m{\u001b[39;00mjs\u001b[39m}\u001b[39;00m\u001b[39m has non list value \u001b[39m\u001b[39m{\u001b[39;00mresult\u001b[39m}\u001b[39;00m\u001b[39m for path \u001b[39m\u001b[39m{\u001b[39;00mspec\u001b[39m}\u001b[39;00m\u001b[39m. \u001b[39m\u001b[39m\"\u001b[39m\n\u001b[0;32m    433\u001b[0m             \u001b[39m\"\u001b[39m\u001b[39mMust be list or null.\u001b[39m\u001b[39m\"\u001b[39m\n\u001b[0;32m    434\u001b[0m         )\n\u001b[0;32m    435\u001b[0m \u001b[39mreturn\u001b[39;00m result\n",
      "\u001b[1;31mTypeError\u001b[0m: gender has non list value d for path 3. Must be list or null."
     ]
    }
   ],
   "source": [
    "df_normalized = pd.json_normalize(df, 'location')"
   ]
  }
 ],
 "metadata": {
  "kernelspec": {
   "display_name": "Python 3",
   "language": "python",
   "name": "python3"
  },
  "language_info": {
   "codemirror_mode": {
    "name": "ipython",
    "version": 3
   },
   "file_extension": ".py",
   "mimetype": "text/x-python",
   "name": "python",
   "nbconvert_exporter": "python",
   "pygments_lexer": "ipython3",
   "version": "3.11.3"
  },
  "orig_nbformat": 4
 },
 "nbformat": 4,
 "nbformat_minor": 2
}
